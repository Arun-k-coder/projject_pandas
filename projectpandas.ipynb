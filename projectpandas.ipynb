{
 "cells": [
  {
   "cell_type": "code",
   "id": "initial_id",
   "metadata": {
    "collapsed": true,
    "ExecuteTime": {
     "end_time": "2025-08-29T04:16:57.256347Z",
     "start_time": "2025-08-29T04:16:57.199206Z"
    }
   },
   "source": [
    "import pandas as pd\n",
    "df=pd.read_csv(\"C:\\\\Users\\\\ARUN\\\\Downloads\\\\jobmodel\\\\StudentsPerformance.csv\")\n",
    "print(df.head())"
   ],
   "outputs": [
    {
     "name": "stdout",
     "output_type": "stream",
     "text": [
      "   gender race/ethnicity parental level of education         lunch  \\\n",
      "0  female        group B           bachelor's degree      standard   \n",
      "1  female        group C                some college      standard   \n",
      "2  female        group B             master's degree      standard   \n",
      "3    male        group A          associate's degree  free/reduced   \n",
      "4    male        group C                some college      standard   \n",
      "\n",
      "  test preparation course  math score  reading score  writing score  \n",
      "0                    none          72             72             74  \n",
      "1               completed          69             90             88  \n",
      "2                    none          90             95             93  \n",
      "3                    none          47             57             44  \n",
      "4                    none          76             78             75  \n"
     ]
    }
   ],
   "execution_count": 2
  },
  {
   "metadata": {
    "ExecuteTime": {
     "end_time": "2025-08-29T04:21:14.730204Z",
     "start_time": "2025-08-29T04:21:14.649031Z"
    }
   },
   "cell_type": "code",
   "source": "print(df.shape)",
   "id": "cf197ee3e8d140cf",
   "outputs": [
    {
     "name": "stdout",
     "output_type": "stream",
     "text": [
      "(1000, 8)\n"
     ]
    }
   ],
   "execution_count": 3
  },
  {
   "metadata": {
    "ExecuteTime": {
     "end_time": "2025-08-29T04:23:19.285670Z",
     "start_time": "2025-08-29T04:23:19.077897Z"
    }
   },
   "cell_type": "code",
   "source": "print(df.describe())",
   "id": "cc1e2e66f2a013ca",
   "outputs": [
    {
     "name": "stdout",
     "output_type": "stream",
     "text": [
      "       math score  reading score  writing score\n",
      "count  1000.00000    1000.000000    1000.000000\n",
      "mean     66.08900      69.169000      68.054000\n",
      "std      15.16308      14.600192      15.195657\n",
      "min       0.00000      17.000000      10.000000\n",
      "25%      57.00000      59.000000      57.750000\n",
      "50%      66.00000      70.000000      69.000000\n",
      "75%      77.00000      79.000000      79.000000\n",
      "max     100.00000     100.000000     100.000000\n"
     ]
    }
   ],
   "execution_count": 4
  },
  {
   "metadata": {
    "ExecuteTime": {
     "end_time": "2025-08-29T04:23:36.051502Z",
     "start_time": "2025-08-29T04:23:35.976216Z"
    }
   },
   "cell_type": "code",
   "source": "print(df.info())",
   "id": "5f9a5faf0452bc4a",
   "outputs": [
    {
     "name": "stdout",
     "output_type": "stream",
     "text": [
      "<class 'pandas.core.frame.DataFrame'>\n",
      "RangeIndex: 1000 entries, 0 to 999\n",
      "Data columns (total 8 columns):\n",
      " #   Column                       Non-Null Count  Dtype \n",
      "---  ------                       --------------  ----- \n",
      " 0   gender                       1000 non-null   object\n",
      " 1   race/ethnicity               1000 non-null   object\n",
      " 2   parental level of education  1000 non-null   object\n",
      " 3   lunch                        1000 non-null   object\n",
      " 4   test preparation course      1000 non-null   object\n",
      " 5   math score                   1000 non-null   int64 \n",
      " 6   reading score                1000 non-null   int64 \n",
      " 7   writing score                1000 non-null   int64 \n",
      "dtypes: int64(3), object(5)\n",
      "memory usage: 62.6+ KB\n",
      "None\n"
     ]
    }
   ],
   "execution_count": 5
  },
  {
   "metadata": {
    "ExecuteTime": {
     "end_time": "2025-08-29T04:24:36.062831Z",
     "start_time": "2025-08-29T04:24:36.041521Z"
    }
   },
   "cell_type": "code",
   "source": "print(df.isnull().sum())",
   "id": "f9b3a68cbe34a7bc",
   "outputs": [
    {
     "name": "stdout",
     "output_type": "stream",
     "text": [
      "gender                         0\n",
      "race/ethnicity                 0\n",
      "parental level of education    0\n",
      "lunch                          0\n",
      "test preparation course        0\n",
      "math score                     0\n",
      "reading score                  0\n",
      "writing score                  0\n",
      "dtype: int64\n"
     ]
    }
   ],
   "execution_count": 6
  },
  {
   "metadata": {
    "ExecuteTime": {
     "end_time": "2025-08-29T04:25:32.761574Z",
     "start_time": "2025-08-29T04:25:32.735686Z"
    }
   },
   "cell_type": "code",
   "source": [
    "df.rename(columns={\n",
    "    \"gender\": \"gender\",\n",
    "    \"race/ethnicity\": \"ethnicity\",\n",
    "    \"parental level of education\": \"parental_education\",\n",
    "    \"lunch\": \"lunch\",\n",
    "    \"test preparation course\": \"test_preparation_course\",\n",
    "    \"math score\": \"math_score\",\n",
    "    \"reading score\": \"reading_score\",\n",
    "    \"writing score\": \"writing_score\"\n",
    "}, inplace=True)"
   ],
   "id": "ebd7b2b9c635a117",
   "outputs": [],
   "execution_count": 7
  },
  {
   "metadata": {
    "ExecuteTime": {
     "end_time": "2025-08-29T04:26:20.149038Z",
     "start_time": "2025-08-29T04:26:20.106685Z"
    }
   },
   "cell_type": "code",
   "source": [
    "df[\"total_score\"] = df[\"math_score\"] + df[\"reading_score\"] + df[\"writing_score\"]\n",
    "\n",
    "print(\"Updated Columns:\", df.columns.tolist())\n",
    "print(\"First 5 rows after cleaning:\")\n",
    "print(df.head())"
   ],
   "id": "5e59c91e940c8d45",
   "outputs": [
    {
     "name": "stdout",
     "output_type": "stream",
     "text": [
      "\n",
      "Updated Columns: ['gender', 'ethnicity', 'parental_education', 'lunch', 'test_preparation_course', 'math_score', 'reading_score', 'writing_score', 'total_score']\n",
      "\n",
      "First 5 rows after cleaning:\n",
      "   gender ethnicity  parental_education         lunch test_preparation_course  \\\n",
      "0  female   group B   bachelor's degree      standard                    none   \n",
      "1  female   group C        some college      standard               completed   \n",
      "2  female   group B     master's degree      standard                    none   \n",
      "3    male   group A  associate's degree  free/reduced                    none   \n",
      "4    male   group C        some college      standard                    none   \n",
      "\n",
      "   math_score  reading_score  writing_score  total_score  \n",
      "0          72             72             74          218  \n",
      "1          69             90             88          247  \n",
      "2          90             95             93          278  \n",
      "3          47             57             44          148  \n",
      "4          76             78             75          229  \n"
     ]
    }
   ],
   "execution_count": 8
  },
  {
   "metadata": {
    "ExecuteTime": {
     "end_time": "2025-08-29T04:27:36.050960Z",
     "start_time": "2025-08-29T04:27:36.029860Z"
    }
   },
   "cell_type": "code",
   "source": "print(df.groupby(\"gender\")[\"math_score\"].mean())",
   "id": "4077bd48ed41ab48",
   "outputs": [
    {
     "name": "stdout",
     "output_type": "stream",
     "text": [
      "gender\n",
      "female    63.633205\n",
      "male      68.728216\n",
      "Name: math_score, dtype: float64\n"
     ]
    }
   ],
   "execution_count": 9
  },
  {
   "metadata": {
    "ExecuteTime": {
     "end_time": "2025-08-29T04:28:23.779712Z",
     "start_time": "2025-08-29T04:28:23.732977Z"
    }
   },
   "cell_type": "code",
   "source": "print(df.nlargest(5, \"total_score\"))",
   "id": "efec1bb1191ab582",
   "outputs": [
    {
     "name": "stdout",
     "output_type": "stream",
     "text": [
      "     gender ethnicity  parental_education     lunch test_preparation_course  \\\n",
      "458  female   group E   bachelor's degree  standard                    none   \n",
      "916    male   group E   bachelor's degree  standard               completed   \n",
      "962  female   group E  associate's degree  standard                    none   \n",
      "114  female   group E   bachelor's degree  standard               completed   \n",
      "179  female   group D    some high school  standard               completed   \n",
      "\n",
      "     math_score  reading_score  writing_score  total_score  \n",
      "458         100            100            100          300  \n",
      "916         100            100            100          300  \n",
      "962         100            100            100          300  \n",
      "114          99            100            100          299  \n",
      "179          97            100            100          297  \n"
     ]
    }
   ],
   "execution_count": 10
  },
  {
   "metadata": {
    "ExecuteTime": {
     "end_time": "2025-08-29T04:31:00.498904Z",
     "start_time": "2025-08-29T04:31:00.491072Z"
    }
   },
   "cell_type": "code",
   "source": "print(df.groupby(\"ethnicity\")[\"reading_score\"].mean())",
   "id": "5010574e39a6f7ab",
   "outputs": [
    {
     "name": "stdout",
     "output_type": "stream",
     "text": [
      "ethnicity\n",
      "group A    64.674157\n",
      "group B    67.352632\n",
      "group C    69.103448\n",
      "group D    70.030534\n",
      "group E    73.028571\n",
      "Name: reading_score, dtype: float64\n"
     ]
    }
   ],
   "execution_count": 12
  },
  {
   "metadata": {
    "ExecuteTime": {
     "end_time": "2025-08-29T04:32:41.733562Z",
     "start_time": "2025-08-29T04:32:41.726691Z"
    }
   },
   "cell_type": "code",
   "source": "print(df.groupby(\"ethnicity\")[\"reading_score\"].mean().idxmax())",
   "id": "8be21c7d013847c1",
   "outputs": [
    {
     "name": "stdout",
     "output_type": "stream",
     "text": [
      "group E\n"
     ]
    }
   ],
   "execution_count": 13
  },
  {
   "metadata": {
    "ExecuteTime": {
     "end_time": "2025-08-29T04:33:45.092283Z",
     "start_time": "2025-08-29T04:33:45.085125Z"
    }
   },
   "cell_type": "code",
   "source": "print(df.groupby(\"test_preparation_course\")[\"writing_score\"].mean())",
   "id": "2735ed5d329816b9",
   "outputs": [
    {
     "name": "stdout",
     "output_type": "stream",
     "text": [
      "test_preparation_course\n",
      "completed    74.418994\n",
      "none         64.504673\n",
      "Name: writing_score, dtype: float64\n"
     ]
    }
   ],
   "execution_count": 14
  },
  {
   "metadata": {
    "ExecuteTime": {
     "end_time": "2025-08-29T04:35:13.245982Z",
     "start_time": "2025-08-29T04:35:13.209181Z"
    }
   },
   "cell_type": "code",
   "source": "print(df[[\"reading_score\", \"writing_score\", \"math_score\"]].corr())",
   "id": "5e6656b01e77a052",
   "outputs": [
    {
     "name": "stdout",
     "output_type": "stream",
     "text": [
      "               reading_score  writing_score  math_score\n",
      "reading_score       1.000000       0.954598    0.817580\n",
      "writing_score       0.954598       1.000000    0.802642\n",
      "math_score          0.817580       0.802642    1.000000\n"
     ]
    }
   ],
   "execution_count": 15
  },
  {
   "metadata": {
    "ExecuteTime": {
     "end_time": "2025-08-29T04:35:54.303371Z",
     "start_time": "2025-08-29T04:35:54.281085Z"
    }
   },
   "cell_type": "code",
   "source": [
    "def categorize_performance(score):\n",
    "    if score >= 240:\n",
    "        return \"Excellent\"\n",
    "    elif score >= 180:\n",
    "        return \"Good\"\n",
    "    else:\n",
    "        return \"Needs Improvement\"\n",
    "\n",
    "df[\"performance_category\"] = df[\"total_score\"].apply(categorize_performance)"
   ],
   "id": "71b91d2b718c6516",
   "outputs": [],
   "execution_count": 16
  },
  {
   "metadata": {
    "ExecuteTime": {
     "end_time": "2025-08-29T04:36:14.638117Z",
     "start_time": "2025-08-29T04:36:14.606426Z"
    }
   },
   "cell_type": "code",
   "source": "print(df[\"performance_category\"])",
   "id": "42496b8ac91a1699",
   "outputs": [
    {
     "name": "stdout",
     "output_type": "stream",
     "text": [
      "0                   Good\n",
      "1              Excellent\n",
      "2              Excellent\n",
      "3      Needs Improvement\n",
      "4                   Good\n",
      "             ...        \n",
      "995            Excellent\n",
      "996    Needs Improvement\n",
      "997                 Good\n",
      "998                 Good\n",
      "999            Excellent\n",
      "Name: performance_category, Length: 1000, dtype: object\n"
     ]
    }
   ],
   "execution_count": 17
  },
  {
   "metadata": {},
   "cell_type": "code",
   "outputs": [],
   "execution_count": null,
   "source": "",
   "id": "1152b0d082707c7e"
  }
 ],
 "metadata": {
  "kernelspec": {
   "display_name": "Python 3",
   "language": "python",
   "name": "python3"
  },
  "language_info": {
   "codemirror_mode": {
    "name": "ipython",
    "version": 2
   },
   "file_extension": ".py",
   "mimetype": "text/x-python",
   "name": "python",
   "nbconvert_exporter": "python",
   "pygments_lexer": "ipython2",
   "version": "2.7.6"
  }
 },
 "nbformat": 4,
 "nbformat_minor": 5
}
